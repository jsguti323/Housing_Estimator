{
 "cells": [
  {
   "cell_type": "markdown",
   "id": "1e72047c",
   "metadata": {},
   "source": [
    "# Technologies Used"
   ]
  },
  {
   "cell_type": "markdown",
   "id": "9d323d66",
   "metadata": {},
   "source": [
    "## Data Cleaning and Analysis"
   ]
  },
  {
   "cell_type": "markdown",
   "id": "276428d4",
   "metadata": {},
   "source": [
    "Pandas will be used to clean the data and perform an exploratory analysis"
   ]
  },
  {
   "cell_type": "markdown",
   "id": "c566d5c5",
   "metadata": {},
   "source": [
    "## Database Storage"
   ]
  },
  {
   "cell_type": "markdown",
   "id": "1131b8f6",
   "metadata": {},
   "source": [
    "AWS and pgadmin will be used for data storage"
   ]
  },
  {
   "cell_type": "markdown",
   "id": "abed219a",
   "metadata": {},
   "source": [
    "## Machine Learning"
   ]
  },
  {
   "cell_type": "markdown",
   "id": "60848711",
   "metadata": {},
   "source": [
    "We chose to use RandomForestClassifier because this model provides clean comprehensive output in the form of confusion matrixes and classification reports. It also generates a list of features by importance, making it easier to quickly see the weight of individual variables. It is accurate, resistant to overfitting, and highly interpretable. "
   ]
  },
  {
   "cell_type": "markdown",
   "id": "883bcc77",
   "metadata": {},
   "source": [
    "## Dashboard"
   ]
  },
  {
   "cell_type": "markdown",
   "id": "8059308f",
   "metadata": {},
   "source": [
    "We are using Tableau to transform our data into an engaging story and to create the final dashboard. "
   ]
  }
 ],
 "metadata": {
  "kernelspec": {
   "display_name": "PythonData",
   "language": "python",
   "name": "pythondata"
  },
  "language_info": {
   "codemirror_mode": {
    "name": "ipython",
    "version": 3
   },
   "file_extension": ".py",
   "mimetype": "text/x-python",
   "name": "python",
   "nbconvert_exporter": "python",
   "pygments_lexer": "ipython3",
   "version": "3.7.11"
  }
 },
 "nbformat": 4,
 "nbformat_minor": 5
}
