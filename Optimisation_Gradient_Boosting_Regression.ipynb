{
 "cells": [
  {
   "cell_type": "code",
   "execution_count": 1,
   "id": "252458a5",
   "metadata": {
    "id": "EZDVzsJid_6Y"
   },
   "outputs": [],
   "source": [
    "import warnings\n",
    "warnings.filterwarnings('ignore')"
   ]
  },
  {
   "cell_type": "code",
   "execution_count": 2,
   "id": "b1d8ad74",
   "metadata": {
    "id": "fNmLKVFkd_6d"
   },
   "outputs": [],
   "source": [
    "import numpy as np\n",
    "import pandas as pd\n",
    "import matplotlib.pyplot as plt\n",
    "from collections import Counter"
   ]
  },
  {
   "cell_type": "code",
   "execution_count": 3,
   "id": "7c80a712",
   "metadata": {
    "id": "Clyi_ROBd_6d"
   },
   "outputs": [],
   "source": [
    "from sklearn.ensemble import RandomForestRegressor\n",
    "from sklearn.datasets import make_regression\n",
    "from sklearn.ensemble import HistGradientBoostingRegressor\n",
    "from sklearn.preprocessing import LabelEncoder\n",
    "from sklearn import metrics\n"
   ]
  },
  {
   "cell_type": "code",
   "execution_count": 4,
   "id": "47443b20",
   "metadata": {},
   "outputs": [],
   "source": [
    "from sklearn.ensemble import RandomForestClassifier\n",
    "from sklearn.preprocessing import StandardScaler\n",
    "from sklearn.model_selection import train_test_split\n",
    "from sklearn.metrics import confusion_matrix, accuracy_score, classification_report"
   ]
  },
  {
   "cell_type": "markdown",
   "id": "4b61f7f5",
   "metadata": {
    "id": "rLJNQCDWd_6e"
   },
   "source": [
    "# Read the CSV and Perform Basic Data Cleaning"
   ]
  },
  {
   "cell_type": "code",
   "execution_count": 5,
   "id": "b5ffe1b7",
   "metadata": {
    "id": "uUJFRgmGd_6h"
   },
   "outputs": [],
   "source": [
    "# Load the data\n",
    "\n",
    "housing_df = pd.read_csv('Data\\clean_merged_data.csv')"
   ]
  },
  {
   "cell_type": "code",
   "execution_count": 6,
   "id": "9607d34b",
   "metadata": {
    "colab": {
     "base_uri": "https://localhost:8080/",
     "height": 165
    },
    "id": "ogvUGFGL4cMq",
    "outputId": "36a9bb49-93ea-482c-cef1-b6670f65cc3b"
   },
   "outputs": [
    {
     "data": {
      "text/html": [
       "<div>\n",
       "<style scoped>\n",
       "    .dataframe tbody tr th:only-of-type {\n",
       "        vertical-align: middle;\n",
       "    }\n",
       "\n",
       "    .dataframe tbody tr th {\n",
       "        vertical-align: top;\n",
       "    }\n",
       "\n",
       "    .dataframe thead th {\n",
       "        text-align: right;\n",
       "    }\n",
       "</style>\n",
       "<table border=\"1\" class=\"dataframe\">\n",
       "  <thead>\n",
       "    <tr style=\"text-align: right;\">\n",
       "      <th></th>\n",
       "      <th>City</th>\n",
       "      <th>Longitude</th>\n",
       "      <th>latitude</th>\n",
       "      <th>Population</th>\n",
       "      <th>median_age</th>\n",
       "      <th>median_income</th>\n",
       "      <th>median_house_value</th>\n",
       "      <th>total_rooms</th>\n",
       "      <th>Bedrooms</th>\n",
       "      <th>Households</th>\n",
       "      <th>ocean_proximity</th>\n",
       "      <th>max_temp</th>\n",
       "      <th>Humidity</th>\n",
       "      <th>Cloudiness</th>\n",
       "      <th>wind_speed</th>\n",
       "      <th>Description</th>\n",
       "      <th>County</th>\n",
       "      <th>Employees</th>\n",
       "      <th>Establishments</th>\n",
       "    </tr>\n",
       "  </thead>\n",
       "  <tbody>\n",
       "    <tr>\n",
       "      <th>0</th>\n",
       "      <td>Mission Viejo</td>\n",
       "      <td>-117.66</td>\n",
       "      <td>33.61</td>\n",
       "      <td>789</td>\n",
       "      <td>16</td>\n",
       "      <td>8.4112</td>\n",
       "      <td>286900</td>\n",
       "      <td>2022</td>\n",
       "      <td>254</td>\n",
       "      <td>270</td>\n",
       "      <td>&lt;1H OCEAN</td>\n",
       "      <td>94.75</td>\n",
       "      <td>63</td>\n",
       "      <td>59</td>\n",
       "      <td>5.01</td>\n",
       "      <td>broken clouds</td>\n",
       "      <td>Orange</td>\n",
       "      <td>1191075</td>\n",
       "      <td>71255</td>\n",
       "    </tr>\n",
       "    <tr>\n",
       "      <th>1</th>\n",
       "      <td>Mission Viejo</td>\n",
       "      <td>-117.66</td>\n",
       "      <td>33.62</td>\n",
       "      <td>1962</td>\n",
       "      <td>16</td>\n",
       "      <td>6.2177</td>\n",
       "      <td>256600</td>\n",
       "      <td>4065</td>\n",
       "      <td>661</td>\n",
       "      <td>636</td>\n",
       "      <td>&lt;1H OCEAN</td>\n",
       "      <td>94.75</td>\n",
       "      <td>63</td>\n",
       "      <td>59</td>\n",
       "      <td>5.01</td>\n",
       "      <td>broken clouds</td>\n",
       "      <td>Orange</td>\n",
       "      <td>1191075</td>\n",
       "      <td>71255</td>\n",
       "    </tr>\n",
       "    <tr>\n",
       "      <th>2</th>\n",
       "      <td>Mission Viejo</td>\n",
       "      <td>-117.67</td>\n",
       "      <td>33.61</td>\n",
       "      <td>1972</td>\n",
       "      <td>24</td>\n",
       "      <td>5.7871</td>\n",
       "      <td>227400</td>\n",
       "      <td>3859</td>\n",
       "      <td>661</td>\n",
       "      <td>624</td>\n",
       "      <td>&lt;1H OCEAN</td>\n",
       "      <td>94.75</td>\n",
       "      <td>63</td>\n",
       "      <td>59</td>\n",
       "      <td>5.01</td>\n",
       "      <td>broken clouds</td>\n",
       "      <td>Orange</td>\n",
       "      <td>1191075</td>\n",
       "      <td>71255</td>\n",
       "    </tr>\n",
       "    <tr>\n",
       "      <th>3</th>\n",
       "      <td>Mission Viejo</td>\n",
       "      <td>-117.66</td>\n",
       "      <td>33.61</td>\n",
       "      <td>1713</td>\n",
       "      <td>17</td>\n",
       "      <td>6.0471</td>\n",
       "      <td>248400</td>\n",
       "      <td>3464</td>\n",
       "      <td>519</td>\n",
       "      <td>530</td>\n",
       "      <td>&lt;1H OCEAN</td>\n",
       "      <td>94.75</td>\n",
       "      <td>63</td>\n",
       "      <td>59</td>\n",
       "      <td>5.01</td>\n",
       "      <td>broken clouds</td>\n",
       "      <td>Orange</td>\n",
       "      <td>1191075</td>\n",
       "      <td>71255</td>\n",
       "    </tr>\n",
       "    <tr>\n",
       "      <th>4</th>\n",
       "      <td>Mission Viejo</td>\n",
       "      <td>-117.66</td>\n",
       "      <td>33.61</td>\n",
       "      <td>860</td>\n",
       "      <td>21</td>\n",
       "      <td>7.1497</td>\n",
       "      <td>274000</td>\n",
       "      <td>1932</td>\n",
       "      <td>266</td>\n",
       "      <td>286</td>\n",
       "      <td>&lt;1H OCEAN</td>\n",
       "      <td>94.75</td>\n",
       "      <td>63</td>\n",
       "      <td>59</td>\n",
       "      <td>5.01</td>\n",
       "      <td>broken clouds</td>\n",
       "      <td>Orange</td>\n",
       "      <td>1191075</td>\n",
       "      <td>71255</td>\n",
       "    </tr>\n",
       "  </tbody>\n",
       "</table>\n",
       "</div>"
      ],
      "text/plain": [
       "            City  Longitude  latitude  Population  median_age  median_income  \\\n",
       "0  Mission Viejo    -117.66     33.61         789          16         8.4112   \n",
       "1  Mission Viejo    -117.66     33.62        1962          16         6.2177   \n",
       "2  Mission Viejo    -117.67     33.61        1972          24         5.7871   \n",
       "3  Mission Viejo    -117.66     33.61        1713          17         6.0471   \n",
       "4  Mission Viejo    -117.66     33.61         860          21         7.1497   \n",
       "\n",
       "   median_house_value  total_rooms  Bedrooms  Households ocean_proximity  \\\n",
       "0              286900         2022       254         270       <1H OCEAN   \n",
       "1              256600         4065       661         636       <1H OCEAN   \n",
       "2              227400         3859       661         624       <1H OCEAN   \n",
       "3              248400         3464       519         530       <1H OCEAN   \n",
       "4              274000         1932       266         286       <1H OCEAN   \n",
       "\n",
       "   max_temp  Humidity  Cloudiness  wind_speed    Description  County  \\\n",
       "0     94.75        63          59        5.01  broken clouds  Orange   \n",
       "1     94.75        63          59        5.01  broken clouds  Orange   \n",
       "2     94.75        63          59        5.01  broken clouds  Orange   \n",
       "3     94.75        63          59        5.01  broken clouds  Orange   \n",
       "4     94.75        63          59        5.01  broken clouds  Orange   \n",
       "\n",
       "   Employees  Establishments  \n",
       "0    1191075           71255  \n",
       "1    1191075           71255  \n",
       "2    1191075           71255  \n",
       "3    1191075           71255  \n",
       "4    1191075           71255  "
      ]
     },
     "execution_count": 6,
     "metadata": {},
     "output_type": "execute_result"
    }
   ],
   "source": [
    "housing_df.head()"
   ]
  },
  {
   "cell_type": "code",
   "execution_count": 7,
   "id": "1f8ccc34",
   "metadata": {
    "colab": {
     "base_uri": "https://localhost:8080/",
     "height": 200
    },
    "id": "nkzrWHgI6doF",
    "outputId": "c4643507-3abf-402b-815d-a6e552d80d68"
   },
   "outputs": [],
   "source": [
    "#drop unnecessary/low value columns 'Longitude','latitude','City','County'\n",
    "\n",
    "housing_df.drop(['City', 'County','Longitude','latitude'],axis=1, inplace=True)\n"
   ]
  },
  {
   "cell_type": "code",
   "execution_count": 8,
   "id": "fddee0b8",
   "metadata": {},
   "outputs": [
    {
     "data": {
      "text/html": [
       "<div>\n",
       "<style scoped>\n",
       "    .dataframe tbody tr th:only-of-type {\n",
       "        vertical-align: middle;\n",
       "    }\n",
       "\n",
       "    .dataframe tbody tr th {\n",
       "        vertical-align: top;\n",
       "    }\n",
       "\n",
       "    .dataframe thead th {\n",
       "        text-align: right;\n",
       "    }\n",
       "</style>\n",
       "<table border=\"1\" class=\"dataframe\">\n",
       "  <thead>\n",
       "    <tr style=\"text-align: right;\">\n",
       "      <th></th>\n",
       "      <th>Population</th>\n",
       "      <th>median_age</th>\n",
       "      <th>median_income</th>\n",
       "      <th>median_house_value</th>\n",
       "      <th>total_rooms</th>\n",
       "      <th>Bedrooms</th>\n",
       "      <th>Households</th>\n",
       "      <th>max_temp</th>\n",
       "      <th>Humidity</th>\n",
       "      <th>Cloudiness</th>\n",
       "      <th>...</th>\n",
       "      <th>ocean_proximity_NEAR BAY</th>\n",
       "      <th>ocean_proximity_NEAR OCEAN</th>\n",
       "      <th>Description_broken clouds</th>\n",
       "      <th>Description_clear sky</th>\n",
       "      <th>Description_few clouds</th>\n",
       "      <th>Description_haze</th>\n",
       "      <th>Description_overcast clouds</th>\n",
       "      <th>Description_scattered clouds</th>\n",
       "      <th>Description_smoke</th>\n",
       "      <th>Description_thunderstorm</th>\n",
       "    </tr>\n",
       "  </thead>\n",
       "  <tbody>\n",
       "    <tr>\n",
       "      <th>0</th>\n",
       "      <td>789</td>\n",
       "      <td>16</td>\n",
       "      <td>8.4112</td>\n",
       "      <td>286900</td>\n",
       "      <td>2022</td>\n",
       "      <td>254</td>\n",
       "      <td>270</td>\n",
       "      <td>94.75</td>\n",
       "      <td>63</td>\n",
       "      <td>59</td>\n",
       "      <td>...</td>\n",
       "      <td>0</td>\n",
       "      <td>0</td>\n",
       "      <td>1</td>\n",
       "      <td>0</td>\n",
       "      <td>0</td>\n",
       "      <td>0</td>\n",
       "      <td>0</td>\n",
       "      <td>0</td>\n",
       "      <td>0</td>\n",
       "      <td>0</td>\n",
       "    </tr>\n",
       "    <tr>\n",
       "      <th>1</th>\n",
       "      <td>1962</td>\n",
       "      <td>16</td>\n",
       "      <td>6.2177</td>\n",
       "      <td>256600</td>\n",
       "      <td>4065</td>\n",
       "      <td>661</td>\n",
       "      <td>636</td>\n",
       "      <td>94.75</td>\n",
       "      <td>63</td>\n",
       "      <td>59</td>\n",
       "      <td>...</td>\n",
       "      <td>0</td>\n",
       "      <td>0</td>\n",
       "      <td>1</td>\n",
       "      <td>0</td>\n",
       "      <td>0</td>\n",
       "      <td>0</td>\n",
       "      <td>0</td>\n",
       "      <td>0</td>\n",
       "      <td>0</td>\n",
       "      <td>0</td>\n",
       "    </tr>\n",
       "    <tr>\n",
       "      <th>2</th>\n",
       "      <td>1972</td>\n",
       "      <td>24</td>\n",
       "      <td>5.7871</td>\n",
       "      <td>227400</td>\n",
       "      <td>3859</td>\n",
       "      <td>661</td>\n",
       "      <td>624</td>\n",
       "      <td>94.75</td>\n",
       "      <td>63</td>\n",
       "      <td>59</td>\n",
       "      <td>...</td>\n",
       "      <td>0</td>\n",
       "      <td>0</td>\n",
       "      <td>1</td>\n",
       "      <td>0</td>\n",
       "      <td>0</td>\n",
       "      <td>0</td>\n",
       "      <td>0</td>\n",
       "      <td>0</td>\n",
       "      <td>0</td>\n",
       "      <td>0</td>\n",
       "    </tr>\n",
       "    <tr>\n",
       "      <th>3</th>\n",
       "      <td>1713</td>\n",
       "      <td>17</td>\n",
       "      <td>6.0471</td>\n",
       "      <td>248400</td>\n",
       "      <td>3464</td>\n",
       "      <td>519</td>\n",
       "      <td>530</td>\n",
       "      <td>94.75</td>\n",
       "      <td>63</td>\n",
       "      <td>59</td>\n",
       "      <td>...</td>\n",
       "      <td>0</td>\n",
       "      <td>0</td>\n",
       "      <td>1</td>\n",
       "      <td>0</td>\n",
       "      <td>0</td>\n",
       "      <td>0</td>\n",
       "      <td>0</td>\n",
       "      <td>0</td>\n",
       "      <td>0</td>\n",
       "      <td>0</td>\n",
       "    </tr>\n",
       "    <tr>\n",
       "      <th>4</th>\n",
       "      <td>860</td>\n",
       "      <td>21</td>\n",
       "      <td>7.1497</td>\n",
       "      <td>274000</td>\n",
       "      <td>1932</td>\n",
       "      <td>266</td>\n",
       "      <td>286</td>\n",
       "      <td>94.75</td>\n",
       "      <td>63</td>\n",
       "      <td>59</td>\n",
       "      <td>...</td>\n",
       "      <td>0</td>\n",
       "      <td>0</td>\n",
       "      <td>1</td>\n",
       "      <td>0</td>\n",
       "      <td>0</td>\n",
       "      <td>0</td>\n",
       "      <td>0</td>\n",
       "      <td>0</td>\n",
       "      <td>0</td>\n",
       "      <td>0</td>\n",
       "    </tr>\n",
       "  </tbody>\n",
       "</table>\n",
       "<p>5 rows × 26 columns</p>\n",
       "</div>"
      ],
      "text/plain": [
       "   Population  median_age  median_income  median_house_value  total_rooms  \\\n",
       "0         789          16         8.4112              286900         2022   \n",
       "1        1962          16         6.2177              256600         4065   \n",
       "2        1972          24         5.7871              227400         3859   \n",
       "3        1713          17         6.0471              248400         3464   \n",
       "4         860          21         7.1497              274000         1932   \n",
       "\n",
       "   Bedrooms  Households  max_temp  Humidity  Cloudiness  ...  \\\n",
       "0       254         270     94.75        63          59  ...   \n",
       "1       661         636     94.75        63          59  ...   \n",
       "2       661         624     94.75        63          59  ...   \n",
       "3       519         530     94.75        63          59  ...   \n",
       "4       266         286     94.75        63          59  ...   \n",
       "\n",
       "   ocean_proximity_NEAR BAY  ocean_proximity_NEAR OCEAN  \\\n",
       "0                         0                           0   \n",
       "1                         0                           0   \n",
       "2                         0                           0   \n",
       "3                         0                           0   \n",
       "4                         0                           0   \n",
       "\n",
       "   Description_broken clouds  Description_clear sky  Description_few clouds  \\\n",
       "0                          1                      0                       0   \n",
       "1                          1                      0                       0   \n",
       "2                          1                      0                       0   \n",
       "3                          1                      0                       0   \n",
       "4                          1                      0                       0   \n",
       "\n",
       "   Description_haze  Description_overcast clouds  \\\n",
       "0                 0                            0   \n",
       "1                 0                            0   \n",
       "2                 0                            0   \n",
       "3                 0                            0   \n",
       "4                 0                            0   \n",
       "\n",
       "   Description_scattered clouds  Description_smoke  Description_thunderstorm  \n",
       "0                             0                  0                         0  \n",
       "1                             0                  0                         0  \n",
       "2                             0                  0                         0  \n",
       "3                             0                  0                         0  \n",
       "4                             0                  0                         0  \n",
       "\n",
       "[5 rows x 26 columns]"
      ]
     },
     "execution_count": 8,
     "metadata": {},
     "output_type": "execute_result"
    }
   ],
   "source": [
    "#convert categorical values\n",
    "\n",
    "housing_df=pd.get_dummies(housing_df)\n",
    "housing_df.head()"
   ]
  },
  {
   "cell_type": "code",
   "execution_count": 9,
   "id": "dbaab776",
   "metadata": {},
   "outputs": [],
   "source": [
    "# Split our preprocessed data into our features and target arrays\n",
    "X = housing_df.drop(columns = [\"median_house_value\"])\n",
    "y = housing_df['median_house_value']\n"
   ]
  },
  {
   "cell_type": "code",
   "execution_count": 10,
   "id": "568af9a9",
   "metadata": {},
   "outputs": [],
   "source": [
    "# Split the preprocessed data into a training and testing dataset\n",
    "from sklearn.model_selection import train_test_split\n",
    "X_train, X_test, y_train, y_test = train_test_split(X, y, random_state=1, test_size=1/3)"
   ]
  },
  {
   "cell_type": "code",
   "execution_count": 11,
   "id": "8c7e501b",
   "metadata": {},
   "outputs": [],
   "source": [
    "# Creating a StandardScaler instance.\n",
    "scaler = StandardScaler()\n",
    "# Fitting the Standard Scaler with the training data.\n",
    "X_scaler = scaler.fit(X_train)\n",
    "\n",
    "# Scaling the data.\n",
    "X_train_scaled = X_scaler.transform(X_train)\n",
    "X_test_scaled = X_scaler.transform(X_test)"
   ]
  },
  {
   "cell_type": "markdown",
   "id": "efcfe629",
   "metadata": {},
   "source": [
    "# Gradient Boosting Regressor"
   ]
  },
  {
   "cell_type": "code",
   "execution_count": 12,
   "id": "804df68d",
   "metadata": {},
   "outputs": [],
   "source": [
    "from sklearn.ensemble import GradientBoostingRegressor"
   ]
  },
  {
   "cell_type": "code",
   "execution_count": 13,
   "id": "74bd5c6a",
   "metadata": {
    "id": "Z_u_FKL6d_6o"
   },
   "outputs": [
    {
     "name": "stdout",
     "output_type": "stream",
     "text": [
      "n_estimator val:10 0.5208932045959471\n",
      "n_estimator val:20 0.6145314509053361\n",
      "n_estimator val:30 0.6676813612361918\n",
      "n_estimator val:40 0.694391060874096\n",
      "n_estimator val:50 0.7122239127814519\n",
      "n_estimator val:60 0.7254921343319833\n",
      "n_estimator val:70 0.7351036238073215\n",
      "n_estimator val:80 0.7417210820621993\n",
      "n_estimator val:90 0.7457659521277669\n",
      "n_estimator val:100 0.7499700829124283\n",
      "n_estimator val:110 0.753075085183379\n",
      "n_estimator val:120 0.753801435911196\n",
      "n_estimator val:130 0.7565772905919053\n",
      "n_estimator val:140 0.7585151109104662\n",
      "n_estimator val:150 0.759721133491453\n",
      "n_estimator val:160 0.760217243420656\n",
      "n_estimator val:170 0.7615063688724515\n",
      "n_estimator val:180 0.7636778425815182\n",
      "n_estimator val:190 0.7645251023747932\n",
      "n_estimator val:200 0.7656042268629276\n",
      "n_estimator val:210 0.7659690752445389\n",
      "n_estimator val:220 0.7675609446078847\n",
      "n_estimator val:230 0.7683212867717223\n",
      "n_estimator val:240 0.7699949164294432\n",
      "n_estimator val:250 0.7707264723127919\n",
      "n_estimator val:260 0.7711735395714028\n",
      "n_estimator val:270 0.7719689984910106\n",
      "n_estimator val:280 0.7730804777312524\n",
      "n_estimator val:290 0.7731308010916096\n",
      "n_estimator val:300 0.7742168224950677\n",
      "n_estimator val:310 0.7754487043076557\n",
      "n_estimator val:320 0.7765526089325128\n",
      "n_estimator val:330 0.7770200950654216\n",
      "n_estimator val:340 0.7772382431682181\n",
      "n_estimator val:350 0.7777609198814331\n",
      "n_estimator val:360 0.7783173034458274\n",
      "n_estimator val:370 0.7787303573602962\n",
      "n_estimator val:380 0.7787717160518446\n",
      "n_estimator val:390 0.779489756837136\n",
      "n_estimator val:400 0.7792829344173672\n",
      "n_estimator val:410 0.7798850550075304\n",
      "n_estimator val:420 0.7803579060768455\n",
      "n_estimator val:430 0.7804185285317047\n",
      "n_estimator val:440 0.780542799856093\n",
      "n_estimator val:450 0.7805908456604655\n",
      "n_estimator val:460 0.780176744436534\n",
      "n_estimator val:470 0.7800309030145822\n",
      "n_estimator val:480 0.780773101049623\n",
      "n_estimator val:490 0.7807778825093565\n",
      "n_estimator val:500 0.7810624734034962\n",
      "n_estimator val:510 0.7817628472283129\n",
      "n_estimator val:520 0.7819104878740664\n",
      "n_estimator val:530 0.7820540720196193\n",
      "n_estimator val:540 0.7822232559204959\n",
      "n_estimator val:550 0.7824321887339021\n",
      "n_estimator val:560 0.7825629397630461\n",
      "n_estimator val:570 0.7826002786431625\n",
      "n_estimator val:580 0.7827733912010731\n",
      "n_estimator val:590 0.7827766235861096\n",
      "n_estimator val:600 0.7832179932149451\n",
      "n_estimator val:610 0.7832463194234021\n",
      "n_estimator val:620 0.783305767148158\n",
      "n_estimator val:630 0.7832487598259218\n",
      "n_estimator val:640 0.7837098041522448\n",
      "n_estimator val:650 0.7839200301079446\n",
      "n_estimator val:660 0.7840358264336942\n",
      "n_estimator val:670 0.7841694930428259\n",
      "n_estimator val:680 0.78395915684196\n",
      "n_estimator val:690 0.7840520034965429\n",
      "n_estimator val:700 0.7840104471395095\n",
      "n_estimator val:710 0.7840080364478385\n",
      "n_estimator val:720 0.7837769721627392\n",
      "n_estimator val:730 0.7839065774300142\n",
      "n_estimator val:740 0.7837642665090334\n",
      "n_estimator val:750 0.7838380503528356\n",
      "n_estimator val:760 0.7836850020286333\n",
      "n_estimator val:770 0.7832457226998353\n",
      "n_estimator val:780 0.7832318518337181\n",
      "n_estimator val:790 0.7833869811289986\n",
      "n_estimator val:800 0.7832406598792097\n",
      "n_estimator val:810 0.7831283638970581\n",
      "n_estimator val:820 0.7833064486349711\n",
      "n_estimator val:830 0.7835456235291784\n",
      "n_estimator val:840 0.7834934335761755\n",
      "n_estimator val:850 0.7834948145218296\n",
      "n_estimator val:860 0.7832039524749287\n",
      "n_estimator val:870 0.7831302552230501\n",
      "n_estimator val:880 0.7830198989290729\n",
      "n_estimator val:890 0.7829917020717518\n",
      "n_estimator val:900 0.7829043976502854\n",
      "n_estimator val:910 0.7829340110666863\n",
      "n_estimator val:920 0.7829153535277785\n",
      "n_estimator val:930 0.7827946617035232\n",
      "n_estimator val:940 0.7828604576456277\n",
      "n_estimator val:950 0.7827195044538581\n",
      "n_estimator val:960 0.782614906634919\n",
      "n_estimator val:970 0.7824581084311787\n",
      "n_estimator val:980 0.7823423082793692\n",
      "n_estimator val:990 0.7823068245093077\n"
     ]
    }
   ],
   "source": [
    "# define the model\n",
    "model_n_estimator_scores = []\n",
    "for n_estimator in range(10,1000,10):\n",
    "    params = {\n",
    "        \"n_estimators\": n_estimator,\n",
    "        \"random_state\":1\n",
    "    }\n",
    "    model = GradientBoostingRegressor(**params)\n",
    "    model.fit(X_train_scaled,y_train)\n",
    "    y_pred = model.predict(X_test_scaled)\n",
    "    model_n_estimator_scores.append(model.score(X_test_scaled, y_test))\n",
    "    print(f'n_estimator val:{n_estimator}', model.score(X_test_scaled, y_test))\n",
    "\n",
    "\n",
    " \n"
   ]
  },
  {
   "cell_type": "code",
   "execution_count": 14,
   "id": "10d35e61",
   "metadata": {},
   "outputs": [
    {
     "data": {
      "image/png": "[encoded data removed]",
      "text/plain": [
       "<Figure size 432x288 with 1 Axes>"
      ]
     },
     "metadata": {
      "needs_background": "light"
     },
     "output_type": "display_data"
    },
    {
     "data": {
      "text/plain": [
       "<Figure size 432x288 with 0 Axes>"
      ]
     },
     "metadata": {},
     "output_type": "display_data"
    }
   ],
   "source": [
    "#feature_importance = model.feature_importances_\n",
    "#feature_importance\n",
    "\n",
    "import matplotlib.pyplot as plt\n",
    "import numpy as np\n",
    "parameter_values = [x for x in range(10,1000,10)]\n",
    "\n",
    "x = parameter_values\n",
    "y = model_n_estimator_scores\n",
    "\n",
    "\n",
    "plt.plot(x, y,color = \"red\")\n",
    "plt.xticks(np.arange(0, 1001, step=100))\n",
    "plt.xlabel('Parameter Value')\n",
    "plt.ylabel('Accuracy Score')\n",
    "plt.title(\"n_estimators\")\n",
    "plt.grid()\n",
    "plt.show()\n",
    "plt.savefig(\"n_estimators\")"
   ]
  },
  {
   "cell_type": "code",
   "execution_count": 21,
   "id": "3aedbb71",
   "metadata": {},
   "outputs": [
    {
     "name": "stdout",
     "output_type": "stream",
     "text": [
      "max_depth val:2 0.7705856302353259\n",
      "max_depth val:4 0.7919801769403144\n",
      "max_depth val:6 0.7814318025197297\n",
      "max_depth val:8 0.7738728810681686\n",
      "max_depth val:10 0.7555317900755554\n",
      "max_depth val:12 0.7368350184694319\n",
      "max_depth val:14 0.7029111015545835\n",
      "max_depth val:16 0.664723223091677\n",
      "max_depth val:18 0.6257066163080964\n",
      "max_depth val:20 0.6065405016455567\n",
      "max_depth val:22 0.5849960471032302\n",
      "max_depth val:24 0.5678977509650593\n",
      "max_depth val:26 0.5604540638769671\n",
      "max_depth val:28 0.5613452948009683\n",
      "max_depth val:30 0.5586009130933309\n",
      "max_depth val:32 0.5602888063975793\n",
      "max_depth val:34 0.5602888063975793\n",
      "max_depth val:36 0.5602888063975793\n",
      "max_depth val:38 0.5602888063975793\n",
      "max_depth val:40 0.5602888063975793\n",
      "max_depth val:42 0.5602888063975793\n",
      "max_depth val:44 0.5602888063975793\n",
      "max_depth val:46 0.5602888063975793\n",
      "max_depth val:48 0.5602888063975793\n"
     ]
    }
   ],
   "source": [
    "# define the model\n",
    "max_depth_scores = []\n",
    "for max_depth in range(2,50,2):\n",
    "    params = {\n",
    "        \"n_estimators\": 600,\n",
    "        \"max_depth\":max_depth,\n",
    "        \"random_state\":1\n",
    "    }\n",
    "    model = GradientBoostingRegressor(**params)\n",
    "    model.fit(X_train_scaled,y_train)\n",
    "    y_pred = model.predict(X_test_scaled)\n",
    "    max_depth_scores.append(model.score(X_test_scaled, y_test))\n",
    "    print(f'max_depth val:{max_depth}', model.score(X_test_scaled, y_test))"
   ]
  },
  {
   "cell_type": "code",
   "execution_count": 22,
   "id": "c59bf8ea",
   "metadata": {},
   "outputs": [
    {
     "data": {
      "image/png": "[encoded data removed]",
      "text/plain": [
       "<Figure size 432x288 with 1 Axes>"
      ]
     },
     "metadata": {
      "needs_background": "light"
     },
     "output_type": "display_data"
    },
    {
     "data": {
      "text/plain": [
       "<Figure size 432x288 with 0 Axes>"
      ]
     },
     "metadata": {},
     "output_type": "display_data"
    }
   ],
   "source": [
    "\n",
    "max_depth_values = [x for x in range(2,50,2)]\n",
    "\n",
    "x = max_depth_values\n",
    "y = max_depth_scores\n",
    "\n",
    "\n",
    "plt.plot(x, y,color = \"green\")\n",
    "plt.xticks(np.arange(0, 51, step=5))\n",
    "plt.xlabel('Parameter Value')\n",
    "plt.ylabel('Accuracy Score')\n",
    "plt.title(\"max_depth\")\n",
    "plt.grid()\n",
    "plt.show()\n",
    "plt.savefig(\"max_depth\")\n"
   ]
  },
  {
   "cell_type": "code",
   "execution_count": 23,
   "id": "74ad77a9",
   "metadata": {},
   "outputs": [
    {
     "name": "stdout",
     "output_type": "stream",
     "text": [
      "max_features val:auto 0.7919801769403144\n",
      "max_features val:sqrt 0.7933886509305309\n",
      "max_features val:log2 0.7887317643571896\n"
     ]
    }
   ],
   "source": [
    "# define the model\n",
    "max_feature_scores = []\n",
    "max_features = ['auto', 'sqrt', 'log2']\n",
    "for max_feature in max_features:\n",
    "    params = {\n",
    "        \"n_estimators\": 600,\n",
    "        \"max_depth\":4,\n",
    "        \"max_features\":max_feature,\n",
    "        \"random_state\":1\n",
    "    }\n",
    "    model = GradientBoostingRegressor(**params)\n",
    "    model.fit(X_train_scaled,y_train)\n",
    "    y_pred = model.predict(X_test_scaled)\n",
    "    max_feature_scores.append(model.score(X_test_scaled, y_test))\n",
    "    print(f'max_features val:{max_feature}', model.score(X_test_scaled, y_test))"
   ]
  },
  {
   "cell_type": "code",
   "execution_count": 24,
   "id": "8fbe03f8",
   "metadata": {},
   "outputs": [
    {
     "data": {
      "image/png": "[encoded data removed]",
      "text/plain": [
       "<Figure size 432x288 with 1 Axes>"
      ]
     },
     "metadata": {
      "needs_background": "light"
     },
     "output_type": "display_data"
    },
    {
     "data": {
      "text/plain": [
       "<Figure size 432x288 with 0 Axes>"
      ]
     },
     "metadata": {},
     "output_type": "display_data"
    }
   ],
   "source": [
    "x = ['auto', 'sqrt', 'log2']\n",
    "y = max_feature_scores\n",
    "\n",
    "\n",
    "plt.plot(x, y,color = \"blue\")\n",
    "plt.xticks(np.arange(0, 3, step=1))\n",
    "plt.xlabel('Parameter Value')\n",
    "plt.ylabel('Accuracy Score')\n",
    "plt.title(\"max_features\")\n",
    "plt.grid()\n",
    "plt.show()\n",
    "plt.savefig(\"max_features\")"
   ]
  },
  {
   "cell_type": "code",
   "execution_count": 25,
   "id": "d6de6687",
   "metadata": {},
   "outputs": [
    {
     "name": "stdout",
     "output_type": "stream",
     "text": [
      "model score is :0.7933886509305309\n"
     ]
    }
   ],
   "source": [
    "params = {\n",
    "        \"n_estimators\": 600,\n",
    "    \"max_depth\": 4,\n",
    "    \"max_features\":'sqrt',\n",
    "    \"random_state\":1\n",
    "     }\n",
    "model = GradientBoostingRegressor(**params)\n",
    "model.fit(X_train_scaled,y_train)\n",
    "\n",
    "y_pred = model.predict(X_test_scaled)\n",
    "print(f'model score is :{model.score(X_test_scaled, y_test)}')"
   ]
  },
  {
   "cell_type": "code",
   "execution_count": 26,
   "id": "315cfce9",
   "metadata": {},
   "outputs": [
    {
     "data": {
      "text/plain": [
       "array([5.00288018e-02, 2.39584085e-02, 4.02539634e-01, 5.48298385e-02,\n",
       "       2.61891434e-02, 2.58730753e-02, 8.64876612e-02, 8.80202126e-02,\n",
       "       8.83112270e-03, 2.68213667e-02, 3.44162780e-02, 6.53013843e-02,\n",
       "       1.50825170e-02, 6.99414635e-02, 2.06456742e-04, 5.74843921e-03,\n",
       "       2.66605249e-03, 1.32874347e-03, 1.41093123e-03, 4.65190712e-03,\n",
       "       2.48044000e-05, 2.03803652e-04, 5.18291798e-03, 4.86612075e-05,\n",
       "       2.06375214e-04])"
      ]
     },
     "execution_count": 26,
     "metadata": {},
     "output_type": "execute_result"
    }
   ],
   "source": [
    "feature_importance = model.feature_importances_\n",
    "feature_importance"
   ]
  },
  {
   "cell_type": "code",
   "execution_count": 31,
   "id": "1755bda6",
   "metadata": {},
   "outputs": [
    {
     "data": {
      "text/plain": [
       "array([20, 23, 21, 24, 14, 17, 18, 16, 19, 22, 15,  8, 12,  1,  5,  4,  9,\n",
       "       10,  0,  3, 11, 13,  6,  7,  2], dtype=int64)"
      ]
     },
     "execution_count": 31,
     "metadata": {},
     "output_type": "execute_result"
    }
   ],
   "source": [
    "sorted_idx = np.argsort(feature_importance)\n",
    "sorted_idx"
   ]
  },
  {
   "cell_type": "code",
   "execution_count": 30,
   "id": "b3c2a36f",
   "metadata": {},
   "outputs": [
    {
     "data": {
      "text/plain": [
       "array([2.48044000e-05, 4.86612075e-05, 2.03803652e-04, 2.06375214e-04,\n",
       "       2.06456742e-04, 1.32874347e-03, 1.41093123e-03, 2.66605249e-03,\n",
       "       4.65190712e-03, 5.18291798e-03, 5.74843921e-03, 8.83112270e-03,\n",
       "       1.50825170e-02, 2.39584085e-02, 2.58730753e-02, 2.61891434e-02,\n",
       "       2.68213667e-02, 3.44162780e-02, 5.00288018e-02, 5.48298385e-02,\n",
       "       6.53013843e-02, 6.99414635e-02, 8.64876612e-02, 8.80202126e-02,\n",
       "       4.02539634e-01])"
      ]
     },
     "execution_count": 30,
     "metadata": {},
     "output_type": "execute_result"
    }
   ],
   "source": [
    "sorted_feature_importance = np.sort(feature_importance)\n",
    "sorted_feature_importance"
   ]
  },
  {
   "cell_type": "code",
   "execution_count": 34,
   "id": "a732272f",
   "metadata": {},
   "outputs": [
    {
     "data": {
      "text/plain": [
       "array([ 0.5,  1.5,  2.5,  3.5,  4.5,  5.5,  6.5,  7.5,  8.5,  9.5, 10.5,\n",
       "       11.5, 12.5, 13.5, 14.5, 15.5, 16.5, 17.5, 18.5, 19.5, 20.5, 21.5,\n",
       "       22.5, 23.5, 24.5])"
      ]
     },
     "execution_count": 34,
     "metadata": {},
     "output_type": "execute_result"
    }
   ],
   "source": [
    "pos = np.arange(sorted_idx.shape[0]) + 0.5\n",
    "pos"
   ]
  },
  {
   "cell_type": "code",
   "execution_count": 42,
   "id": "36be6546",
   "metadata": {},
   "outputs": [
    {
     "data": {
      "image/png": "[encoded data removed]",
      "text/plain": [
       "<Figure size 864x720 with 1 Axes>"
      ]
     },
     "metadata": {
      "needs_background": "light"
     },
     "output_type": "display_data"
    }
   ],
   "source": [
    "fig = plt.figure(figsize=(12, 10))\n",
    "plt.barh(pos, feature_importance[sorted_idx], align=\"center\")\n",
    "plt.yticks(pos, X.columns[sorted_idx])\n",
    "plt.xlabel('Importance Score')\n",
    "plt.ylabel('Features')\n",
    "plt.title(\"Feature Importance\")\n",
    "plt.grid()\n",
    "plt.savefig(\"Feature_importance\")"
   ]
  },
  {
   "cell_type": "code",
   "execution_count": null,
   "id": "dfc64c86",
   "metadata": {},
   "outputs": [],
   "source": []
  }
 ],
 "metadata": {
  "kernelspec": {
   "display_name": "mlenv",
   "language": "python",
   "name": "mlenv"
  },
  "language_info": {
   "codemirror_mode": {
    "name": "ipython",
    "version": 3
   },
   "file_extension": ".py",
   "mimetype": "text/x-python",
   "name": "python",
   "nbconvert_exporter": "python",
   "pygments_lexer": "ipython3",
   "version": "3.7.13"
  }
 },
 "nbformat": 4,
 "nbformat_minor": 5
}
