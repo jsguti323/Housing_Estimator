{
 "cells": [
  {
   "cell_type": "code",
   "execution_count": 1,
   "id": "252458a5",
   "metadata": {
    "id": "EZDVzsJid_6Y"
   },
   "outputs": [],
   "source": [
    "import warnings\n",
    "warnings.filterwarnings('ignore')"
   ]
  },
  {
   "cell_type": "code",
   "execution_count": 2,
   "id": "b1d8ad74",
   "metadata": {
    "id": "fNmLKVFkd_6d"
   },
   "outputs": [],
   "source": [
    "import numpy as np\n",
    "import pandas as pd\n",
    "import matplotlib.pyplot as plt\n",
    "from collections import Counter"
   ]
  },
  {
   "cell_type": "code",
   "execution_count": 3,
   "id": "7c80a712",
   "metadata": {
    "id": "Clyi_ROBd_6d"
   },
   "outputs": [],
   "source": [
    "from sklearn.ensemble import RandomForestRegressor\n",
    "from sklearn.datasets import make_regression\n",
    "from sklearn.ensemble import HistGradientBoostingRegressor\n",
    "from sklearn.preprocessing import LabelEncoder\n",
    "from sklearn import metrics\n"
   ]
  },
  {
   "cell_type": "code",
   "execution_count": 4,
   "id": "47443b20",
   "metadata": {},
   "outputs": [],
   "source": [
    "from sklearn.ensemble import RandomForestClassifier\n",
    "from sklearn.preprocessing import StandardScaler\n",
    "from sklearn.model_selection import train_test_split\n",
    "from sklearn.metrics import confusion_matrix, accuracy_score, classification_report"
   ]
  },
  {
   "cell_type": "markdown",
   "id": "4b61f7f5",
   "metadata": {
    "id": "rLJNQCDWd_6e"
   },
   "source": [
    "# Read the CSV and Perform Basic Data Cleaning"
   ]
  },
  {
   "cell_type": "code",
   "execution_count": 5,
   "id": "b5ffe1b7",
   "metadata": {
    "id": "uUJFRgmGd_6h"
   },
   "outputs": [],
   "source": [
    "# Load the data\n",
    "\n",
    "housing_df = pd.read_csv('Data\\clean_merged_data.csv')"
   ]
  },
  {
   "cell_type": "code",
   "execution_count": 6,
   "id": "9607d34b",
   "metadata": {
    "colab": {
     "base_uri": "https://localhost:8080/",
     "height": 165
    },
    "id": "ogvUGFGL4cMq",
    "outputId": "36a9bb49-93ea-482c-cef1-b6670f65cc3b"
   },
   "outputs": [
    {
     "data": {
      "text/html": [
       "<div>\n",
       "<style scoped>\n",
       "    .dataframe tbody tr th:only-of-type {\n",
       "        vertical-align: middle;\n",
       "    }\n",
       "\n",
       "    .dataframe tbody tr th {\n",
       "        vertical-align: top;\n",
       "    }\n",
       "\n",
       "    .dataframe thead th {\n",
       "        text-align: right;\n",
       "    }\n",
       "</style>\n",
       "<table border=\"1\" class=\"dataframe\">\n",
       "  <thead>\n",
       "    <tr style=\"text-align: right;\">\n",
       "      <th></th>\n",
       "      <th>City</th>\n",
       "      <th>Longitude</th>\n",
       "      <th>latitude</th>\n",
       "      <th>Population</th>\n",
       "      <th>median_age</th>\n",
       "      <th>median_income</th>\n",
       "      <th>median_house_value</th>\n",
       "      <th>total_rooms</th>\n",
       "      <th>Bedrooms</th>\n",
       "      <th>Households</th>\n",
       "      <th>ocean_proximity</th>\n",
       "      <th>max_temp</th>\n",
       "      <th>Humidity</th>\n",
       "      <th>Cloudiness</th>\n",
       "      <th>wind_speed</th>\n",
       "      <th>Description</th>\n",
       "      <th>County</th>\n",
       "      <th>Employees</th>\n",
       "      <th>Establishments</th>\n",
       "    </tr>\n",
       "  </thead>\n",
       "  <tbody>\n",
       "    <tr>\n",
       "      <th>0</th>\n",
       "      <td>Mission Viejo</td>\n",
       "      <td>-117.66</td>\n",
       "      <td>33.61</td>\n",
       "      <td>789</td>\n",
       "      <td>16</td>\n",
       "      <td>8.4112</td>\n",
       "      <td>286900</td>\n",
       "      <td>2022</td>\n",
       "      <td>254</td>\n",
       "      <td>270</td>\n",
       "      <td>&lt;1H OCEAN</td>\n",
       "      <td>94.75</td>\n",
       "      <td>63</td>\n",
       "      <td>59</td>\n",
       "      <td>5.01</td>\n",
       "      <td>broken clouds</td>\n",
       "      <td>Orange</td>\n",
       "      <td>1191075</td>\n",
       "      <td>71255</td>\n",
       "    </tr>\n",
       "    <tr>\n",
       "      <th>1</th>\n",
       "      <td>Mission Viejo</td>\n",
       "      <td>-117.66</td>\n",
       "      <td>33.62</td>\n",
       "      <td>1962</td>\n",
       "      <td>16</td>\n",
       "      <td>6.2177</td>\n",
       "      <td>256600</td>\n",
       "      <td>4065</td>\n",
       "      <td>661</td>\n",
       "      <td>636</td>\n",
       "      <td>&lt;1H OCEAN</td>\n",
       "      <td>94.75</td>\n",
       "      <td>63</td>\n",
       "      <td>59</td>\n",
       "      <td>5.01</td>\n",
       "      <td>broken clouds</td>\n",
       "      <td>Orange</td>\n",
       "      <td>1191075</td>\n",
       "      <td>71255</td>\n",
       "    </tr>\n",
       "    <tr>\n",
       "      <th>2</th>\n",
       "      <td>Mission Viejo</td>\n",
       "      <td>-117.67</td>\n",
       "      <td>33.61</td>\n",
       "      <td>1972</td>\n",
       "      <td>24</td>\n",
       "      <td>5.7871</td>\n",
       "      <td>227400</td>\n",
       "      <td>3859</td>\n",
       "      <td>661</td>\n",
       "      <td>624</td>\n",
       "      <td>&lt;1H OCEAN</td>\n",
       "      <td>94.75</td>\n",
       "      <td>63</td>\n",
       "      <td>59</td>\n",
       "      <td>5.01</td>\n",
       "      <td>broken clouds</td>\n",
       "      <td>Orange</td>\n",
       "      <td>1191075</td>\n",
       "      <td>71255</td>\n",
       "    </tr>\n",
       "    <tr>\n",
       "      <th>3</th>\n",
       "      <td>Mission Viejo</td>\n",
       "      <td>-117.66</td>\n",
       "      <td>33.61</td>\n",
       "      <td>1713</td>\n",
       "      <td>17</td>\n",
       "      <td>6.0471</td>\n",
       "      <td>248400</td>\n",
       "      <td>3464</td>\n",
       "      <td>519</td>\n",
       "      <td>530</td>\n",
       "      <td>&lt;1H OCEAN</td>\n",
       "      <td>94.75</td>\n",
       "      <td>63</td>\n",
       "      <td>59</td>\n",
       "      <td>5.01</td>\n",
       "      <td>broken clouds</td>\n",
       "      <td>Orange</td>\n",
       "      <td>1191075</td>\n",
       "      <td>71255</td>\n",
       "    </tr>\n",
       "    <tr>\n",
       "      <th>4</th>\n",
       "      <td>Mission Viejo</td>\n",
       "      <td>-117.66</td>\n",
       "      <td>33.61</td>\n",
       "      <td>860</td>\n",
       "      <td>21</td>\n",
       "      <td>7.1497</td>\n",
       "      <td>274000</td>\n",
       "      <td>1932</td>\n",
       "      <td>266</td>\n",
       "      <td>286</td>\n",
       "      <td>&lt;1H OCEAN</td>\n",
       "      <td>94.75</td>\n",
       "      <td>63</td>\n",
       "      <td>59</td>\n",
       "      <td>5.01</td>\n",
       "      <td>broken clouds</td>\n",
       "      <td>Orange</td>\n",
       "      <td>1191075</td>\n",
       "      <td>71255</td>\n",
       "    </tr>\n",
       "  </tbody>\n",
       "</table>\n",
       "</div>"
      ],
      "text/plain": [
       "            City  Longitude  latitude  Population  median_age  median_income  \\\n",
       "0  Mission Viejo    -117.66     33.61         789          16         8.4112   \n",
       "1  Mission Viejo    -117.66     33.62        1962          16         6.2177   \n",
       "2  Mission Viejo    -117.67     33.61        1972          24         5.7871   \n",
       "3  Mission Viejo    -117.66     33.61        1713          17         6.0471   \n",
       "4  Mission Viejo    -117.66     33.61         860          21         7.1497   \n",
       "\n",
       "   median_house_value  total_rooms  Bedrooms  Households ocean_proximity  \\\n",
       "0              286900         2022       254         270       <1H OCEAN   \n",
       "1              256600         4065       661         636       <1H OCEAN   \n",
       "2              227400         3859       661         624       <1H OCEAN   \n",
       "3              248400         3464       519         530       <1H OCEAN   \n",
       "4              274000         1932       266         286       <1H OCEAN   \n",
       "\n",
       "   max_temp  Humidity  Cloudiness  wind_speed    Description  County  \\\n",
       "0     94.75        63          59        5.01  broken clouds  Orange   \n",
       "1     94.75        63          59        5.01  broken clouds  Orange   \n",
       "2     94.75        63          59        5.01  broken clouds  Orange   \n",
       "3     94.75        63          59        5.01  broken clouds  Orange   \n",
       "4     94.75        63          59        5.01  broken clouds  Orange   \n",
       "\n",
       "   Employees  Establishments  \n",
       "0    1191075           71255  \n",
       "1    1191075           71255  \n",
       "2    1191075           71255  \n",
       "3    1191075           71255  \n",
       "4    1191075           71255  "
      ]
     },
     "execution_count": 6,
     "metadata": {},
     "output_type": "execute_result"
    }
   ],
   "source": [
    "housing_df.head()"
   ]
  },
  {
   "cell_type": "code",
   "execution_count": 7,
   "id": "1f8ccc34",
   "metadata": {
    "colab": {
     "base_uri": "https://localhost:8080/",
     "height": 200
    },
    "id": "nkzrWHgI6doF",
    "outputId": "c4643507-3abf-402b-815d-a6e552d80d68"
   },
   "outputs": [],
   "source": [
    "#drop unnecessary/low value columns 'Longitude','latitude','City','County'\n",
    "\n",
    "housing_df.drop(['City', 'County','Longitude','latitude'],axis=1, inplace=True)\n"
   ]
  },
  {
   "cell_type": "code",
   "execution_count": 8,
   "id": "fddee0b8",
   "metadata": {},
   "outputs": [
    {
     "data": {
      "text/html": [
       "<div>\n",
       "<style scoped>\n",
       "    .dataframe tbody tr th:only-of-type {\n",
       "        vertical-align: middle;\n",
       "    }\n",
       "\n",
       "    .dataframe tbody tr th {\n",
       "        vertical-align: top;\n",
       "    }\n",
       "\n",
       "    .dataframe thead th {\n",
       "        text-align: right;\n",
       "    }\n",
       "</style>\n",
       "<table border=\"1\" class=\"dataframe\">\n",
       "  <thead>\n",
       "    <tr style=\"text-align: right;\">\n",
       "      <th></th>\n",
       "      <th>Population</th>\n",
       "      <th>median_age</th>\n",
       "      <th>median_income</th>\n",
       "      <th>median_house_value</th>\n",
       "      <th>total_rooms</th>\n",
       "      <th>Bedrooms</th>\n",
       "      <th>Households</th>\n",
       "      <th>max_temp</th>\n",
       "      <th>Humidity</th>\n",
       "      <th>Cloudiness</th>\n",
       "      <th>...</th>\n",
       "      <th>ocean_proximity_NEAR BAY</th>\n",
       "      <th>ocean_proximity_NEAR OCEAN</th>\n",
       "      <th>Description_broken clouds</th>\n",
       "      <th>Description_clear sky</th>\n",
       "      <th>Description_few clouds</th>\n",
       "      <th>Description_haze</th>\n",
       "      <th>Description_overcast clouds</th>\n",
       "      <th>Description_scattered clouds</th>\n",
       "      <th>Description_smoke</th>\n",
       "      <th>Description_thunderstorm</th>\n",
       "    </tr>\n",
       "  </thead>\n",
       "  <tbody>\n",
       "    <tr>\n",
       "      <th>0</th>\n",
       "      <td>789</td>\n",
       "      <td>16</td>\n",
       "      <td>8.4112</td>\n",
       "      <td>286900</td>\n",
       "      <td>2022</td>\n",
       "      <td>254</td>\n",
       "      <td>270</td>\n",
       "      <td>94.75</td>\n",
       "      <td>63</td>\n",
       "      <td>59</td>\n",
       "      <td>...</td>\n",
       "      <td>0</td>\n",
       "      <td>0</td>\n",
       "      <td>1</td>\n",
       "      <td>0</td>\n",
       "      <td>0</td>\n",
       "      <td>0</td>\n",
       "      <td>0</td>\n",
       "      <td>0</td>\n",
       "      <td>0</td>\n",
       "      <td>0</td>\n",
       "    </tr>\n",
       "    <tr>\n",
       "      <th>1</th>\n",
       "      <td>1962</td>\n",
       "      <td>16</td>\n",
       "      <td>6.2177</td>\n",
       "      <td>256600</td>\n",
       "      <td>4065</td>\n",
       "      <td>661</td>\n",
       "      <td>636</td>\n",
       "      <td>94.75</td>\n",
       "      <td>63</td>\n",
       "      <td>59</td>\n",
       "      <td>...</td>\n",
       "      <td>0</td>\n",
       "      <td>0</td>\n",
       "      <td>1</td>\n",
       "      <td>0</td>\n",
       "      <td>0</td>\n",
       "      <td>0</td>\n",
       "      <td>0</td>\n",
       "      <td>0</td>\n",
       "      <td>0</td>\n",
       "      <td>0</td>\n",
       "    </tr>\n",
       "    <tr>\n",
       "      <th>2</th>\n",
       "      <td>1972</td>\n",
       "      <td>24</td>\n",
       "      <td>5.7871</td>\n",
       "      <td>227400</td>\n",
       "      <td>3859</td>\n",
       "      <td>661</td>\n",
       "      <td>624</td>\n",
       "      <td>94.75</td>\n",
       "      <td>63</td>\n",
       "      <td>59</td>\n",
       "      <td>...</td>\n",
       "      <td>0</td>\n",
       "      <td>0</td>\n",
       "      <td>1</td>\n",
       "      <td>0</td>\n",
       "      <td>0</td>\n",
       "      <td>0</td>\n",
       "      <td>0</td>\n",
       "      <td>0</td>\n",
       "      <td>0</td>\n",
       "      <td>0</td>\n",
       "    </tr>\n",
       "    <tr>\n",
       "      <th>3</th>\n",
       "      <td>1713</td>\n",
       "      <td>17</td>\n",
       "      <td>6.0471</td>\n",
       "      <td>248400</td>\n",
       "      <td>3464</td>\n",
       "      <td>519</td>\n",
       "      <td>530</td>\n",
       "      <td>94.75</td>\n",
       "      <td>63</td>\n",
       "      <td>59</td>\n",
       "      <td>...</td>\n",
       "      <td>0</td>\n",
       "      <td>0</td>\n",
       "      <td>1</td>\n",
       "      <td>0</td>\n",
       "      <td>0</td>\n",
       "      <td>0</td>\n",
       "      <td>0</td>\n",
       "      <td>0</td>\n",
       "      <td>0</td>\n",
       "      <td>0</td>\n",
       "    </tr>\n",
       "    <tr>\n",
       "      <th>4</th>\n",
       "      <td>860</td>\n",
       "      <td>21</td>\n",
       "      <td>7.1497</td>\n",
       "      <td>274000</td>\n",
       "      <td>1932</td>\n",
       "      <td>266</td>\n",
       "      <td>286</td>\n",
       "      <td>94.75</td>\n",
       "      <td>63</td>\n",
       "      <td>59</td>\n",
       "      <td>...</td>\n",
       "      <td>0</td>\n",
       "      <td>0</td>\n",
       "      <td>1</td>\n",
       "      <td>0</td>\n",
       "      <td>0</td>\n",
       "      <td>0</td>\n",
       "      <td>0</td>\n",
       "      <td>0</td>\n",
       "      <td>0</td>\n",
       "      <td>0</td>\n",
       "    </tr>\n",
       "  </tbody>\n",
       "</table>\n",
       "<p>5 rows × 26 columns</p>\n",
       "</div>"
      ],
      "text/plain": [
       "   Population  median_age  median_income  median_house_value  total_rooms  \\\n",
       "0         789          16         8.4112              286900         2022   \n",
       "1        1962          16         6.2177              256600         4065   \n",
       "2        1972          24         5.7871              227400         3859   \n",
       "3        1713          17         6.0471              248400         3464   \n",
       "4         860          21         7.1497              274000         1932   \n",
       "\n",
       "   Bedrooms  Households  max_temp  Humidity  Cloudiness  ...  \\\n",
       "0       254         270     94.75        63          59  ...   \n",
       "1       661         636     94.75        63          59  ...   \n",
       "2       661         624     94.75        63          59  ...   \n",
       "3       519         530     94.75        63          59  ...   \n",
       "4       266         286     94.75        63          59  ...   \n",
       "\n",
       "   ocean_proximity_NEAR BAY  ocean_proximity_NEAR OCEAN  \\\n",
       "0                         0                           0   \n",
       "1                         0                           0   \n",
       "2                         0                           0   \n",
       "3                         0                           0   \n",
       "4                         0                           0   \n",
       "\n",
       "   Description_broken clouds  Description_clear sky  Description_few clouds  \\\n",
       "0                          1                      0                       0   \n",
       "1                          1                      0                       0   \n",
       "2                          1                      0                       0   \n",
       "3                          1                      0                       0   \n",
       "4                          1                      0                       0   \n",
       "\n",
       "   Description_haze  Description_overcast clouds  \\\n",
       "0                 0                            0   \n",
       "1                 0                            0   \n",
       "2                 0                            0   \n",
       "3                 0                            0   \n",
       "4                 0                            0   \n",
       "\n",
       "   Description_scattered clouds  Description_smoke  Description_thunderstorm  \n",
       "0                             0                  0                         0  \n",
       "1                             0                  0                         0  \n",
       "2                             0                  0                         0  \n",
       "3                             0                  0                         0  \n",
       "4                             0                  0                         0  \n",
       "\n",
       "[5 rows x 26 columns]"
      ]
     },
     "execution_count": 8,
     "metadata": {},
     "output_type": "execute_result"
    }
   ],
   "source": [
    "#convert categorical values\n",
    "\n",
    "housing_df=pd.get_dummies(housing_df)\n",
    "housing_df.head()"
   ]
  },
  {
   "cell_type": "code",
   "execution_count": 9,
   "id": "dbaab776",
   "metadata": {},
   "outputs": [],
   "source": [
    "# Split our preprocessed data into our features and target arrays\n",
    "X = housing_df.drop(columns = [\"median_house_value\"])\n",
    "y = housing_df['median_house_value']\n"
   ]
  },
  {
   "cell_type": "code",
   "execution_count": 10,
   "id": "568af9a9",
   "metadata": {},
   "outputs": [],
   "source": [
    "# Split the preprocessed data into a training and testing dataset\n",
    "from sklearn.model_selection import train_test_split\n",
    "X_train, X_test, y_train, y_test = train_test_split(X, y, random_state=1, test_size=1/3)"
   ]
  },
  {
   "cell_type": "code",
   "execution_count": 11,
   "id": "8c7e501b",
   "metadata": {},
   "outputs": [],
   "source": [
    "# Creating a StandardScaler instance.\n",
    "scaler = StandardScaler()\n",
    "# Fitting the Standard Scaler with the training data.\n",
    "X_scaler = scaler.fit(X_train)\n",
    "\n",
    "# Scaling the data.\n",
    "X_train_scaled = X_scaler.transform(X_train)\n",
    "X_test_scaled = X_scaler.transform(X_test)"
   ]
  },
  {
   "cell_type": "markdown",
   "id": "efcfe629",
   "metadata": {},
   "source": [
    "# Gradient Boosting Regressor"
   ]
  },
  {
   "cell_type": "code",
   "execution_count": 12,
   "id": "804df68d",
   "metadata": {},
   "outputs": [],
   "source": [
    "from sklearn.ensemble import GradientBoostingRegressor"
   ]
  },
  {
   "cell_type": "code",
   "execution_count": 13,
   "id": "74bd5c6a",
   "metadata": {
    "id": "Z_u_FKL6d_6o"
   },
   "outputs": [
    {
     "name": "stdout",
     "output_type": "stream",
     "text": [
      "n_estimator val:10 test_score:0.5208932045959471 train_score:0.5330664308027662\n",
      "n_estimator val:20 test_score:0.6145314509053361 train_score:0.6355438878652422\n",
      "n_estimator val:30 test_score:0.6676813612361918 train_score:0.6909258863091023\n",
      "n_estimator val:40 test_score:0.694391060874096 train_score:0.7211858860771299\n",
      "n_estimator val:50 test_score:0.7122239127814519 train_score:0.7402520909871484\n",
      "n_estimator val:60 test_score:0.7254921343319833 train_score:0.7555064848058283\n",
      "n_estimator val:70 test_score:0.7351036238073215 train_score:0.7680345972445707\n",
      "n_estimator val:80 test_score:0.7417210820621993 train_score:0.7771883708106675\n",
      "n_estimator val:90 test_score:0.7457659521277669 train_score:0.7836100987310847\n",
      "n_estimator val:100 test_score:0.7499700829124283 train_score:0.7896754386864497\n",
      "n_estimator val:110 test_score:0.753075085183379 train_score:0.7953407125460307\n",
      "n_estimator val:120 test_score:0.753801435911196 train_score:0.7988773984581292\n",
      "n_estimator val:130 test_score:0.7565772905919053 train_score:0.8037922983983141\n",
      "n_estimator val:140 test_score:0.7585151109104662 train_score:0.8074336400012541\n",
      "n_estimator val:150 test_score:0.759721133491453 train_score:0.8102960921272906\n",
      "n_estimator val:160 test_score:0.760217243420656 train_score:0.8130629656297904\n",
      "n_estimator val:170 test_score:0.7615063688724515 train_score:0.81576035436818\n",
      "n_estimator val:180 test_score:0.7636778425815182 train_score:0.8193602235329636\n",
      "n_estimator val:190 test_score:0.7645251023747932 train_score:0.8215514986148885\n",
      "n_estimator val:200 test_score:0.7656042268629276 train_score:0.8243415969871948\n",
      "n_estimator val:210 test_score:0.7659690752445389 train_score:0.8262747184195162\n",
      "n_estimator val:220 test_score:0.7675609446078847 train_score:0.8287405902681072\n",
      "n_estimator val:230 test_score:0.7683212867717223 train_score:0.8306828358155078\n",
      "n_estimator val:240 test_score:0.7699949164294432 train_score:0.8331665057599426\n",
      "n_estimator val:250 test_score:0.7707264723127919 train_score:0.8347203994069434\n",
      "n_estimator val:260 test_score:0.7711735395714028 train_score:0.8366292156714206\n",
      "n_estimator val:270 test_score:0.7719689984910106 train_score:0.8387556327971306\n",
      "n_estimator val:280 test_score:0.7730804777312524 train_score:0.8405543844284982\n",
      "n_estimator val:290 test_score:0.7731308010916096 train_score:0.8423464222927801\n",
      "n_estimator val:300 test_score:0.7742168224950677 train_score:0.8444669163046996\n",
      "n_estimator val:310 test_score:0.7754487043076557 train_score:0.8465072761360191\n",
      "n_estimator val:320 test_score:0.7765526089325128 train_score:0.8482408734697453\n",
      "n_estimator val:330 test_score:0.7770200950654216 train_score:0.8500010345924939\n",
      "n_estimator val:340 test_score:0.7772382431682181 train_score:0.8513374413486898\n",
      "n_estimator val:350 test_score:0.7777609198814331 train_score:0.8527855506985759\n",
      "n_estimator val:360 test_score:0.7783173034458274 train_score:0.854278223666975\n",
      "n_estimator val:370 test_score:0.7787303573602962 train_score:0.8555766307892457\n",
      "n_estimator val:380 test_score:0.7787717160518446 train_score:0.8570224345182454\n",
      "n_estimator val:390 test_score:0.779489756837136 train_score:0.8584791459478481\n",
      "n_estimator val:400 test_score:0.7792829344173672 train_score:0.8600712404754131\n",
      "n_estimator val:410 test_score:0.7798850550075304 train_score:0.8615679790157039\n",
      "n_estimator val:420 test_score:0.7803579060768455 train_score:0.8629052420426744\n",
      "n_estimator val:430 test_score:0.7804185285317047 train_score:0.8644362003959327\n",
      "n_estimator val:440 test_score:0.780542799856093 train_score:0.8655058002457664\n",
      "n_estimator val:450 test_score:0.7805908456604655 train_score:0.866658835177103\n",
      "n_estimator val:460 test_score:0.780176744436534 train_score:0.8678994375404887\n",
      "n_estimator val:470 test_score:0.7800309030145822 train_score:0.869033583198944\n",
      "n_estimator val:480 test_score:0.780773101049623 train_score:0.8703630539330133\n",
      "n_estimator val:490 test_score:0.7807778825093565 train_score:0.871368020262793\n",
      "n_estimator val:500 test_score:0.7810624734034962 train_score:0.8726492770644387\n",
      "n_estimator val:510 test_score:0.7817628472283129 train_score:0.8739555783773594\n",
      "n_estimator val:520 test_score:0.7819104878740664 train_score:0.8749368653365783\n",
      "n_estimator val:530 test_score:0.7820540720196193 train_score:0.8760265938462098\n",
      "n_estimator val:540 test_score:0.7822232559204959 train_score:0.8771150023762943\n",
      "n_estimator val:550 test_score:0.7824321887339021 train_score:0.8779432989430274\n",
      "n_estimator val:560 test_score:0.7825629397630461 train_score:0.8787833302396174\n",
      "n_estimator val:570 test_score:0.7826002786431625 train_score:0.8796908752215404\n",
      "n_estimator val:580 test_score:0.7827733912010731 train_score:0.8805797017513791\n",
      "n_estimator val:590 test_score:0.7827766235861096 train_score:0.8813604481395417\n",
      "n_estimator val:600 test_score:0.7832179932149451 train_score:0.8819778419865896\n",
      "n_estimator val:610 test_score:0.7832463194234021 train_score:0.8828565711301517\n",
      "n_estimator val:620 test_score:0.783305767148158 train_score:0.8834091046049425\n",
      "n_estimator val:630 test_score:0.7832487598259218 train_score:0.8843611364069288\n",
      "n_estimator val:640 test_score:0.7837098041522448 train_score:0.8852457640145387\n",
      "n_estimator val:650 test_score:0.7839200301079446 train_score:0.8860830733134184\n",
      "n_estimator val:660 test_score:0.7840358264336942 train_score:0.8867236583401943\n",
      "n_estimator val:670 test_score:0.7841694930428259 train_score:0.8876981088717821\n",
      "n_estimator val:680 test_score:0.78395915684196 train_score:0.8886068738577012\n",
      "n_estimator val:690 test_score:0.7840520034965429 train_score:0.8892771321709745\n",
      "n_estimator val:700 test_score:0.7840104471395095 train_score:0.8900701568329537\n",
      "n_estimator val:710 test_score:0.7840080364478385 train_score:0.8908220351121465\n",
      "n_estimator val:720 test_score:0.7837769721627392 train_score:0.8915158137187642\n",
      "n_estimator val:730 test_score:0.7839065774300142 train_score:0.8921950884936415\n",
      "n_estimator val:740 test_score:0.7837642665090334 train_score:0.8928230370516894\n",
      "n_estimator val:750 test_score:0.7838380503528356 train_score:0.8935367560016215\n",
      "n_estimator val:760 test_score:0.7836850020286333 train_score:0.8942870241600889\n",
      "n_estimator val:770 test_score:0.7832457226998353 train_score:0.8950188520735742\n",
      "n_estimator val:780 test_score:0.7832318518337181 train_score:0.8957828366557965\n",
      "n_estimator val:790 test_score:0.7833869811289986 train_score:0.8964430106480643\n",
      "n_estimator val:800 test_score:0.7832406598792097 train_score:0.8970757702505522\n",
      "n_estimator val:810 test_score:0.7831283638970581 train_score:0.8976178219152989\n",
      "n_estimator val:820 test_score:0.7833064486349711 train_score:0.898283071013606\n",
      "n_estimator val:830 test_score:0.7835456235291784 train_score:0.8988098289706964\n",
      "n_estimator val:840 test_score:0.7834934335761755 train_score:0.8994353750631398\n",
      "n_estimator val:850 test_score:0.7834948145218296 train_score:0.9001861499374094\n",
      "n_estimator val:860 test_score:0.7832039524749287 train_score:0.9008426669327964\n",
      "n_estimator val:870 test_score:0.7831302552230501 train_score:0.9015465228174459\n",
      "n_estimator val:880 test_score:0.7830198989290729 train_score:0.9020989313410761\n",
      "n_estimator val:890 test_score:0.7829917020717518 train_score:0.9027241099792466\n",
      "n_estimator val:900 test_score:0.7829043976502854 train_score:0.9032997324955158\n",
      "n_estimator val:910 test_score:0.7829340110666863 train_score:0.9038566064707406\n",
      "n_estimator val:920 test_score:0.7829153535277785 train_score:0.9044001481664279\n",
      "n_estimator val:930 test_score:0.7827946617035232 train_score:0.9051256805785414\n",
      "n_estimator val:940 test_score:0.7828604576456277 train_score:0.9056807002896824\n",
      "n_estimator val:950 test_score:0.7827195044538581 train_score:0.9062116375570108\n",
      "n_estimator val:960 test_score:0.782614906634919 train_score:0.9067570821404214\n",
      "n_estimator val:970 test_score:0.7824581084311787 train_score:0.907348273412766\n",
      "n_estimator val:980 test_score:0.7823423082793692 train_score:0.9077531459735088\n",
      "n_estimator val:990 test_score:0.7823068245093077 train_score:0.9084493873088393\n"
     ]
    }
   ],
   "source": [
    "# define the model\n",
    "model_n_estimator_test_scores = []\n",
    "model_n_estimator_train_scores = []\n",
    "for n_estimator in range(10,1000,10):\n",
    "    params = {\n",
    "        \"n_estimators\": n_estimator,\n",
    "        \"random_state\":1\n",
    "    }\n",
    "    model = GradientBoostingRegressor(**params)\n",
    "    model.fit(X_train_scaled,y_train)\n",
    "    y_pred = model.predict(X_test_scaled)\n",
    "    model_n_estimator_test_scores.append(model.score(X_test_scaled, y_test))\n",
    "    model_n_estimator_train_scores.append(model.score(X_train_scaled, y_train))\n",
    "    print(f'n_estimator val:{n_estimator}', f'test_score:{model.score(X_test_scaled, y_test)}', f'train_score:{model.score(X_train_scaled, y_train)}')\n",
    "\n"
   ]
  },
  {
   "cell_type": "code",
   "execution_count": 14,
   "id": "10d35e61",
   "metadata": {},
   "outputs": [
    {
     "data": {
      "image/png": "[encoded data removed]",
      "text/plain": [
       "<Figure size 864x720 with 1 Axes>"
      ]
     },
     "metadata": {
      "needs_background": "light"
     },
     "output_type": "display_data"
    },
    {
     "data": {
      "text/plain": [
       "<Figure size 432x288 with 0 Axes>"
      ]
     },
     "metadata": {},
     "output_type": "display_data"
    }
   ],
   "source": [
    "#feature_importance = model.feature_importances_\n",
    "#feature_importance\n",
    "\n",
    "import matplotlib.pyplot as plt\n",
    "import numpy as np\n",
    "parameter_values = [x for x in range(10,1000,10)]\n",
    "\n",
    "x = parameter_values\n",
    "y = model_n_estimator_test_scores\n",
    "y1 = model_n_estimator_train_scores\n",
    "\n",
    "plt.figure(figsize=(12, 10))\n",
    "plt.plot(x, y,color = \"green\")\n",
    "plt.plot(x, y1,color = \"red\")\n",
    "plt.xticks(np.arange(0, 1001, step=100))\n",
    "plt.xlabel('Parameter Value')\n",
    "plt.ylabel('Accuracy Score')\n",
    "plt.title(\"n_estimators\")\n",
    "plt.grid()\n",
    "plt.legend(['Test Score','Train Score'])\n",
    "plt.show()\n",
    "plt.savefig(\"n_estimators\")"
   ]
  },
  {
   "cell_type": "markdown",
   "id": "fd2308ce",
   "metadata": {},
   "source": [
    "### Result : n_estimators indicates the total number of trees used in the model to arrive at the final result. Higher number of trees give us better performance but makes our code slower. As seen in the above graph, the accuracy score over the training set increases continuously with the increase in the hyperparameter value. On the other hand as the n_estimators value increases , the performance over the test set increases initially but after the n_estimators value 600, accuracy score becomes stagnant. Which means, even if we increase the value of n_estimators above 600, there is no major improvement in the accuracy level of test set. Since we were not gaining much improvement in the model's performance after a certain point, increase in the n_estimators value will not add any value to the model and will also make our model slower and probably overfitted too.\n"
   ]
  },
  {
   "cell_type": "code",
   "execution_count": 15,
   "id": "3aedbb71",
   "metadata": {},
   "outputs": [
    {
     "name": "stdout",
     "output_type": "stream",
     "text": [
      "max_depth val:2 test_score:0.7705856302353259 train_score:0.8222522530948722\n",
      "max_depth val:4 test_score:0.7919801769403144 train_score:0.9306432856846195\n",
      "max_depth val:6 test_score:0.7814318025197297 train_score:0.9852958807021889\n",
      "max_depth val:8 test_score:0.7738728810681686 train_score:0.9989854102456205\n",
      "max_depth val:10 test_score:0.7555317900755554 train_score:0.9999771624988174\n",
      "max_depth val:12 test_score:0.7368350184694319 train_score:0.9999999386350699\n",
      "max_depth val:14 test_score:0.7029111015545835 train_score:0.9999999999616619\n",
      "max_depth val:16 test_score:0.664723223091677 train_score:0.9999999999999974\n",
      "max_depth val:18 test_score:0.6257066163080964 train_score:1.0\n",
      "max_depth val:20 test_score:0.6065405016455567 train_score:1.0\n",
      "max_depth val:22 test_score:0.5849960471032302 train_score:1.0\n",
      "max_depth val:24 test_score:0.5678977509650593 train_score:1.0\n",
      "max_depth val:26 test_score:0.5604540638769671 train_score:1.0\n",
      "max_depth val:28 test_score:0.5613452948009683 train_score:1.0\n",
      "max_depth val:30 test_score:0.5586009130933309 train_score:1.0\n",
      "max_depth val:32 test_score:0.5602888063975793 train_score:1.0\n",
      "max_depth val:34 test_score:0.5602888063975793 train_score:1.0\n",
      "max_depth val:36 test_score:0.5602888063975793 train_score:1.0\n",
      "max_depth val:38 test_score:0.5602888063975793 train_score:1.0\n",
      "max_depth val:40 test_score:0.5602888063975793 train_score:1.0\n",
      "max_depth val:42 test_score:0.5602888063975793 train_score:1.0\n",
      "max_depth val:44 test_score:0.5602888063975793 train_score:1.0\n",
      "max_depth val:46 test_score:0.5602888063975793 train_score:1.0\n",
      "max_depth val:48 test_score:0.5602888063975793 train_score:1.0\n"
     ]
    }
   ],
   "source": [
    "# define the model\n",
    "max_depth_test_scores = []\n",
    "max_depth_train_scores = []\n",
    "for max_depth in range(2,50,2):\n",
    "    params = {\n",
    "        \"n_estimators\": 600,\n",
    "        \"max_depth\":max_depth,\n",
    "        \"random_state\":1\n",
    "    }\n",
    "    model = GradientBoostingRegressor(**params)\n",
    "    model.fit(X_train_scaled,y_train)\n",
    "    y_pred = model.predict(X_test_scaled)\n",
    "    max_depth_test_scores.append(model.score(X_test_scaled, y_test))\n",
    "    max_depth_train_scores.append(model.score(X_train_scaled, y_train))\n",
    "    print(f'max_depth val:{max_depth}', f'test_score:{model.score(X_test_scaled, y_test)}', f'train_score:{model.score(X_train_scaled, y_train)}')\n"
   ]
  },
  {
   "cell_type": "code",
   "execution_count": 16,
   "id": "c59bf8ea",
   "metadata": {},
   "outputs": [
    {
     "data": {
      "image/png": "[encoded data removed]",
      "text/plain": [
       "<Figure size 864x720 with 1 Axes>"
      ]
     },
     "metadata": {
      "needs_background": "light"
     },
     "output_type": "display_data"
    },
    {
     "data": {
      "text/plain": [
       "<Figure size 432x288 with 0 Axes>"
      ]
     },
     "metadata": {},
     "output_type": "display_data"
    }
   ],
   "source": [
    "\n",
    "max_depth_values = [x for x in range(2,50,2)]\n",
    "\n",
    "x = max_depth_values\n",
    "y = max_depth_test_scores\n",
    "y1 = max_depth_train_scores\n",
    "\n",
    "plt.figure(figsize=(12, 10))\n",
    "plt.plot(x, y,color = \"green\")\n",
    "plt.plot(x, y1,color = \"red\")\n",
    "plt.xticks(np.arange(0, 51, step=5))\n",
    "plt.xlabel('Parameter Value')\n",
    "plt.ylabel('Accuracy Score')\n",
    "plt.title(\"max_depth\")\n",
    "plt.legend(['Test Score','Train Score'])\n",
    "plt.grid()\n",
    "plt.show()\n",
    "plt.savefig(\"max_depth\")\n"
   ]
  },
  {
   "cell_type": "markdown",
   "id": "f507ac53",
   "metadata": {},
   "source": [
    "### Result : max_depth indicates the maximum depth of a tree in the model. It is basically defined as longest path between the root node and the leaf node. Using the max depth, we can limit up to what depth we want every tree to grow. In the above graph, we can see that as the value of max depth increases, the performance of the model over training set increases continuously and eventually achieves the 100 % accuracy score. On the other hand as the max_depth value increases, the performance over the test set increases initially but after max_depth value 4, it starts to decrease rapidly. Which means that the tree starts to overfit the training set and therefore is not able to generalize over the unseen points in the test set."
   ]
  },
  {
   "cell_type": "code",
   "execution_count": 17,
   "id": "74ad77a9",
   "metadata": {},
   "outputs": [
    {
     "name": "stdout",
     "output_type": "stream",
     "text": [
      "max_features val:1 test_score:0.7763722685357793 train_score:0.8542707049060141\n",
      "max_features val:2 test_score:0.7860356156322141 train_score:0.8802375641672509\n",
      "max_features val:3 test_score:0.7941669994576197 train_score:0.8946904269196729\n",
      "max_features val:4 test_score:0.7887317643571896 train_score:0.9030957196844823\n",
      "max_features val:5 test_score:0.7933886509305309 train_score:0.9110288544524688\n",
      "max_features val:6 test_score:0.7957493466432817 train_score:0.9149517292837557\n",
      "max_features val:7 test_score:0.7911228977006743 train_score:0.9178354221198209\n",
      "max_features val:8 test_score:0.792811323599516 train_score:0.9192680045579456\n",
      "max_features val:9 test_score:0.7933834914984865 train_score:0.9224541217148141\n",
      "max_features val:10 test_score:0.792243551568659 train_score:0.9234403915531999\n",
      "max_features val:11 test_score:0.7957588265193528 train_score:0.9233954971558661\n",
      "max_features val:12 test_score:0.7932110836846049 train_score:0.9242253365461265\n",
      "max_features val:13 test_score:0.7954825050315883 train_score:0.9239566956921951\n",
      "max_features val:14 test_score:0.7919589893091876 train_score:0.9266503171163358\n",
      "max_features val:15 test_score:0.7901347940340637 train_score:0.9274459725361741\n",
      "max_features val:16 test_score:0.7898232705283255 train_score:0.9274308237748115\n",
      "max_features val:17 test_score:0.7923788539507975 train_score:0.9277055334515466\n",
      "max_features val:18 test_score:0.7898371233580023 train_score:0.9278263011142638\n",
      "max_features val:19 test_score:0.7918468825022834 train_score:0.9286007894156709\n",
      "max_features val:20 test_score:0.7927985790177366 train_score:0.9289061366442479\n",
      "max_features val:21 test_score:0.7833253256923876 train_score:0.929276245183297\n",
      "max_features val:22 test_score:0.7856968146231954 train_score:0.9292999979700516\n",
      "max_features val:23 test_score:0.7864962991314224 train_score:0.9287189272089419\n",
      "max_features val:24 test_score:0.7908886648095899 train_score:0.9282888113496782\n"
     ]
    }
   ],
   "source": [
    "# define the model\n",
    "max_feature_test_scores = []\n",
    "max_feature_train_scores = []\n",
    "for max_feature in range(1,25,1):\n",
    "    params = {\n",
    "        \"n_estimators\": 600,\n",
    "        \"max_depth\":4,\n",
    "        \"max_features\":max_feature,\n",
    "        \"random_state\":1\n",
    "    }\n",
    "    model = GradientBoostingRegressor(**params)\n",
    "    model.fit(X_train_scaled,y_train)\n",
    "    y_pred = model.predict(X_test_scaled)\n",
    "    max_feature_test_scores.append(model.score(X_test_scaled, y_test))\n",
    "    max_feature_train_scores.append(model.score(X_train_scaled, y_train))\n",
    "    print(f'max_features val:{max_feature}', f'test_score:{model.score(X_test_scaled, y_test)}', f'train_score:{model.score(X_train_scaled, y_train)}')\n"
   ]
  },
  {
   "cell_type": "code",
   "execution_count": 18,
   "id": "8fbe03f8",
   "metadata": {},
   "outputs": [
    {
     "data": {
      "image/png": "[encoded data removed]",
      "text/plain": [
       "<Figure size 864x720 with 1 Axes>"
      ]
     },
     "metadata": {
      "needs_background": "light"
     },
     "output_type": "display_data"
    },
    {
     "data": {
      "text/plain": [
       "<Figure size 432x288 with 0 Axes>"
      ]
     },
     "metadata": {},
     "output_type": "display_data"
    }
   ],
   "source": [
    "max_features_values = [x for x in range(1,25,1)]\n",
    "\n",
    "x = max_features_values\n",
    "y = max_feature_test_scores\n",
    "y1 = max_feature_train_scores\n",
    "\n",
    "plt.figure(figsize=(12, 10))\n",
    "\n",
    "plt.plot(x, y,color = \"green\")\n",
    "plt.plot(x, y1,color = \"red\")\n",
    "plt.xticks(np.arange(0, 25, step=1))\n",
    "plt.xlabel('Parameter Value')\n",
    "plt.ylabel('Accuracy Score')\n",
    "plt.title(\"max_features\")\n",
    "plt.grid()\n",
    "plt.legend(['Test Score','Train Score'])\n",
    "plt.show()\n",
    "plt.savefig(\"max_features\")"
   ]
  },
  {
   "cell_type": "markdown",
   "id": "28f85136",
   "metadata": {},
   "source": [
    "### Result : max_features resembles the number of maximum features provided to each tree in a model. The model chooses some random samples from the features to find the best split. In the above graph, we can see that t as the value of max_features increases, the performance of the model over training set increases continuously.  On the other hand as the max_features value increases, the performance over the test set increases initially but after max_features value 6, performance is not showing much imrovement. Which means that the tree starts to overfit the training set and hence is not able to generalize over the unseen points in the test set."
   ]
  },
  {
   "cell_type": "code",
   "execution_count": 19,
   "id": "d6de6687",
   "metadata": {},
   "outputs": [
    {
     "name": "stdout",
     "output_type": "stream",
     "text": [
      "model score is :0.7957493466432817\n"
     ]
    }
   ],
   "source": [
    "params = {\n",
    "        \"n_estimators\": 600,\n",
    "    \"max_depth\": 4,\n",
    "    \"max_features\": 6,\n",
    "    \"random_state\": 1\n",
    "     }\n",
    "model = GradientBoostingRegressor(**params)\n",
    "model.fit(X_train_scaled,y_train)\n",
    "\n",
    "y_pred = model.predict(X_test_scaled)\n",
    "print(f'model score is :{model.score(X_test_scaled, y_test)}')"
   ]
  },
  {
   "cell_type": "code",
   "execution_count": 20,
   "id": "36c2ad98",
   "metadata": {},
   "outputs": [
    {
     "data": {
      "text/html": [
       "<div>\n",
       "<style scoped>\n",
       "    .dataframe tbody tr th:only-of-type {\n",
       "        vertical-align: middle;\n",
       "    }\n",
       "\n",
       "    .dataframe tbody tr th {\n",
       "        vertical-align: top;\n",
       "    }\n",
       "\n",
       "    .dataframe thead th {\n",
       "        text-align: right;\n",
       "    }\n",
       "</style>\n",
       "<table border=\"1\" class=\"dataframe\">\n",
       "  <thead>\n",
       "    <tr style=\"text-align: right;\">\n",
       "      <th></th>\n",
       "      <th>Actual</th>\n",
       "      <th>Predicted</th>\n",
       "    </tr>\n",
       "  </thead>\n",
       "  <tbody>\n",
       "    <tr>\n",
       "      <th>9412</th>\n",
       "      <td>500001</td>\n",
       "      <td>399841.843420</td>\n",
       "    </tr>\n",
       "    <tr>\n",
       "      <th>9331</th>\n",
       "      <td>308900</td>\n",
       "      <td>266987.039417</td>\n",
       "    </tr>\n",
       "    <tr>\n",
       "      <th>4120</th>\n",
       "      <td>189800</td>\n",
       "      <td>218984.871501</td>\n",
       "    </tr>\n",
       "    <tr>\n",
       "      <th>10851</th>\n",
       "      <td>103600</td>\n",
       "      <td>110438.464869</td>\n",
       "    </tr>\n",
       "    <tr>\n",
       "      <th>618</th>\n",
       "      <td>366700</td>\n",
       "      <td>412853.115413</td>\n",
       "    </tr>\n",
       "    <tr>\n",
       "      <th>...</th>\n",
       "      <td>...</td>\n",
       "      <td>...</td>\n",
       "    </tr>\n",
       "    <tr>\n",
       "      <th>10120</th>\n",
       "      <td>137900</td>\n",
       "      <td>90443.126388</td>\n",
       "    </tr>\n",
       "    <tr>\n",
       "      <th>8009</th>\n",
       "      <td>500001</td>\n",
       "      <td>404346.682566</td>\n",
       "    </tr>\n",
       "    <tr>\n",
       "      <th>3005</th>\n",
       "      <td>156300</td>\n",
       "      <td>149652.573209</td>\n",
       "    </tr>\n",
       "    <tr>\n",
       "      <th>9492</th>\n",
       "      <td>179200</td>\n",
       "      <td>202255.180594</td>\n",
       "    </tr>\n",
       "    <tr>\n",
       "      <th>6454</th>\n",
       "      <td>158900</td>\n",
       "      <td>224343.296399</td>\n",
       "    </tr>\n",
       "  </tbody>\n",
       "</table>\n",
       "<p>3818 rows × 2 columns</p>\n",
       "</div>"
      ],
      "text/plain": [
       "       Actual      Predicted\n",
       "9412   500001  399841.843420\n",
       "9331   308900  266987.039417\n",
       "4120   189800  218984.871501\n",
       "10851  103600  110438.464869\n",
       "618    366700  412853.115413\n",
       "...       ...            ...\n",
       "10120  137900   90443.126388\n",
       "8009   500001  404346.682566\n",
       "3005   156300  149652.573209\n",
       "9492   179200  202255.180594\n",
       "6454   158900  224343.296399\n",
       "\n",
       "[3818 rows x 2 columns]"
      ]
     },
     "execution_count": 20,
     "metadata": {},
     "output_type": "execute_result"
    }
   ],
   "source": [
    "actual_prediction = pd.DataFrame({'Actual':y_test, 'Predicted':y_pred})\n",
    "actual_prediction"
   ]
  },
  {
   "cell_type": "code",
   "execution_count": 21,
   "id": "fc694f0b",
   "metadata": {},
   "outputs": [
    {
     "name": "stdout",
     "output_type": "stream",
     "text": [
      "Mean Absolute Error: 35059.19838688977\n",
      "Mean Squared Error: 2638493346.476979\n",
      "Root Mean Squared Error: 51366.26662000051\n",
      "Gradient Boosting Regression training score:  0.9149517292837557\n",
      "Gradient Boosting testing score:   0.7957493466432817\n"
     ]
    }
   ],
   "source": [
    "from sklearn import metrics\n",
    "print('Mean Absolute Error:', metrics.mean_absolute_error(y_test, y_pred))\n",
    "print('Mean Squared Error:', metrics.mean_squared_error(y_test, y_pred))\n",
    "print('Root Mean Squared Error:', np.sqrt(metrics.mean_squared_error(y_test, y_pred)))\n",
    "\n",
    "print('Gradient Boosting Regression training score: ',model.score(X_train_scaled, y_train))\n",
    "print('Gradient Boosting testing score:  ',model.score(X_test_scaled, y_test))"
   ]
  },
  {
   "cell_type": "code",
   "execution_count": 22,
   "id": "315cfce9",
   "metadata": {},
   "outputs": [
    {
     "data": {
      "text/plain": [
       "array([5.29115929e-02, 2.24635344e-02, 3.98842216e-01, 5.39044987e-02,\n",
       "       2.35619958e-02, 2.30139210e-02, 9.81060163e-02, 5.88467338e-02,\n",
       "       6.92844171e-03, 2.43669587e-02, 3.93361501e-02, 9.24351052e-02,\n",
       "       2.21697404e-02, 5.06601110e-02, 2.01586499e-04, 2.56044530e-03,\n",
       "       1.27793465e-02, 1.00571028e-03, 3.19586008e-03, 6.40736503e-03,\n",
       "       9.31688130e-06, 2.01931235e-03, 4.16169897e-03, 1.67303393e-05,\n",
       "       9.56124003e-05])"
      ]
     },
     "execution_count": 22,
     "metadata": {},
     "output_type": "execute_result"
    }
   ],
   "source": [
    "feature_importance = model.feature_importances_\n",
    "feature_importance"
   ]
  },
  {
   "cell_type": "code",
   "execution_count": 23,
   "id": "1755bda6",
   "metadata": {},
   "outputs": [
    {
     "data": {
      "text/plain": [
       "array([20, 23, 24, 14, 17, 21, 15, 18, 22, 19,  8, 16, 12,  1,  5,  4,  9,\n",
       "       10, 13,  0,  3,  7, 11,  6,  2], dtype=int64)"
      ]
     },
     "execution_count": 23,
     "metadata": {},
     "output_type": "execute_result"
    }
   ],
   "source": [
    "sorted_idx = np.argsort(feature_importance)\n",
    "sorted_idx"
   ]
  },
  {
   "cell_type": "code",
   "execution_count": 24,
   "id": "b3c2a36f",
   "metadata": {},
   "outputs": [
    {
     "data": {
      "text/plain": [
       "array([9.31688130e-06, 1.67303393e-05, 9.56124003e-05, 2.01586499e-04,\n",
       "       1.00571028e-03, 2.01931235e-03, 2.56044530e-03, 3.19586008e-03,\n",
       "       4.16169897e-03, 6.40736503e-03, 6.92844171e-03, 1.27793465e-02,\n",
       "       2.21697404e-02, 2.24635344e-02, 2.30139210e-02, 2.35619958e-02,\n",
       "       2.43669587e-02, 3.93361501e-02, 5.06601110e-02, 5.29115929e-02,\n",
       "       5.39044987e-02, 5.88467338e-02, 9.24351052e-02, 9.81060163e-02,\n",
       "       3.98842216e-01])"
      ]
     },
     "execution_count": 24,
     "metadata": {},
     "output_type": "execute_result"
    }
   ],
   "source": [
    "sorted_feature_importance = np.sort(feature_importance)\n",
    "sorted_feature_importance"
   ]
  },
  {
   "cell_type": "code",
   "execution_count": 25,
   "id": "a732272f",
   "metadata": {},
   "outputs": [
    {
     "data": {
      "text/plain": [
       "array([ 0.5,  1.5,  2.5,  3.5,  4.5,  5.5,  6.5,  7.5,  8.5,  9.5, 10.5,\n",
       "       11.5, 12.5, 13.5, 14.5, 15.5, 16.5, 17.5, 18.5, 19.5, 20.5, 21.5,\n",
       "       22.5, 23.5, 24.5])"
      ]
     },
     "execution_count": 25,
     "metadata": {},
     "output_type": "execute_result"
    }
   ],
   "source": [
    "pos = np.arange(sorted_idx.shape[0]) + 0.5\n",
    "pos"
   ]
  },
  {
   "cell_type": "code",
   "execution_count": 26,
   "id": "36be6546",
   "metadata": {},
   "outputs": [
    {
     "data": {
      "image/png": "[encoded data removed]",
      "text/plain": [
       "<Figure size 864x720 with 1 Axes>"
      ]
     },
     "metadata": {
      "needs_background": "light"
     },
     "output_type": "display_data"
    }
   ],
   "source": [
    "fig = plt.figure(figsize=(12, 10))\n",
    "plt.barh(pos, feature_importance[sorted_idx], align=\"center\")\n",
    "plt.yticks(pos, X.columns[sorted_idx])\n",
    "plt.xlabel('Importance Score')\n",
    "plt.ylabel('Features')\n",
    "plt.title(\"Feature Importance\")\n",
    "plt.grid()\n",
    "plt.savefig(\"Feature_importance\")"
   ]
  },
  {
   "cell_type": "code",
   "execution_count": null,
   "id": "dfa6d1ff",
   "metadata": {},
   "outputs": [],
   "source": []
  }
 ],
 "metadata": {
  "kernelspec": {
   "display_name": "mlenv",
   "language": "python",
   "name": "mlenv"
  },
  "language_info": {
   "codemirror_mode": {
    "name": "ipython",
    "version": 3
   },
   "file_extension": ".py",
   "mimetype": "text/x-python",
   "name": "python",
   "nbconvert_exporter": "python",
   "pygments_lexer": "ipython3",
   "version": "3.7.13"
  }
 },
 "nbformat": 4,
 "nbformat_minor": 5
}
